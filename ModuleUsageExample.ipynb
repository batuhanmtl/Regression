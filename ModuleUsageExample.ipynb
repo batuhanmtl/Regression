{
 "cells": [
  {
   "cell_type": "markdown",
   "metadata": {
    "pycharm": {
     "name": "#%% md\n"
    }
   },
   "source": [
    "# Least Squares Estimators of Regression Parameters"
   ]
  },
  {
   "cell_type": "markdown",
   "metadata": {
    "pycharm": {
     "name": "#%% md\n"
    }
   },
   "source": [
    "<b>Example</b>\n",
    "<b>The raw material used in the production of a certain synthetic fiber is stored in a place without humidity control. The relative humidity measurements in the warehouse and the moisture content of a sample of the raw material are taken for 15 days (as a percentage) in the data list below.</b>\n",
    "\n",
    "- relative_humidity = [46, 53, 29, 61, 36, 39, 47, 49,52, 38, 55, 32, 57, 54, 44]\n",
    "- content_of_moisture = [12, 15, 7, 17, 10, 11, 11, 12, 14, 9, 16, 8, 18, 14, 12]"
   ]
  },
  {
   "cell_type": "code",
   "execution_count": 19,
   "metadata": {
    "pycharm": {
     "name": "#%%\n"
    }
   },
   "outputs": [
    {
     "data": {
      "image/png": "[encoded data removed]",
      "text/plain": [
       "<Figure size 432x288 with 1 Axes>"
      ]
     },
     "metadata": {
      "needs_background": "light"
     },
     "output_type": "display_data"
    }
   ],
   "source": [
    "from LinearRegression import RegressionParameters\n",
    "import matplotlib.pyplot as plt\n",
    "\n",
    "relative_humidity = [46, 53, 29, 61, 36, 39, 47, 49,52, 38, 55, 32, 57, 54, 44]\n",
    "content_of_moisture = [12, 15, 7, 17, 10, 11, 11, 12, 14, 9, 16, 8, 18, 14, 12]\n",
    "\n",
    "plt.scatter(relative_humidity,content_of_moisture,color='red')\n",
    "plt.show()"
   ]
  },
  {
   "cell_type": "markdown",
   "metadata": {
    "pycharm": {
     "name": "#%% md\n"
    }
   },
   "source": [
    "<b>Let's create a regression line against the scatter diagram we have drawn above. For this, let's obtain the regression parameters alpha and beta.</b>"
   ]
  },
  {
   "cell_type": "code",
   "execution_count": 20,
   "metadata": {
    "pycharm": {
     "name": "#%%\n"
    }
   },
   "outputs": [
    {
     "data": {
      "text/plain": [
       "(-2.510457651687677, 0.32320356181403925)"
      ]
     },
     "execution_count": 20,
     "metadata": {},
     "output_type": "execute_result"
    }
   ],
   "source": [
    "alpha = RegressionParameters.A(relative_humidity,content_of_moisture)\n",
    "beta = RegressionParameters.B(relative_humidity,content_of_moisture)\n",
    "\n",
    "alpha , beta"
   ]
  },
  {
   "cell_type": "markdown",
   "metadata": {
    "pycharm": {
     "name": "#%% md\n"
    }
   },
   "source": [
    "- Regression Equation --> alpha + beta * x"
   ]
  },
  {
   "cell_type": "code",
   "execution_count": 21,
   "metadata": {
    "pycharm": {
     "name": "#%%\n"
    }
   },
   "outputs": [
    {
     "data": {
      "text/plain": [
       "[12.356906191758128,\n",
       " 14.619331124456405,\n",
       " 6.862445640919461,\n",
       " 17.20495961896872,\n",
       " 9.124870573617736,\n",
       " 10.094481259059854,\n",
       " 12.680109753572168,\n",
       " 13.326516877200246,\n",
       " 14.296127562642365,\n",
       " 9.771277697245814,\n",
       " 15.265738248084482,\n",
       " 7.832056326361579,\n",
       " 15.912145371712562,\n",
       " 14.942534686270442,\n",
       " 11.71049906813005]"
      ]
     },
     "execution_count": 21,
     "metadata": {},
     "output_type": "execute_result"
    }
   ],
   "source": [
    "# They are output according to the regression equation.\n",
    "reg_Y = [(i*beta+alpha) for i in relative_humidity]\n",
    "\n",
    "reg_Y"
   ]
  },
  {
   "cell_type": "code",
   "execution_count": 22,
   "metadata": {
    "pycharm": {
     "name": "#%%\n"
    }
   },
   "outputs": [
    {
     "data": {
      "image/png": "[encoded data removed]",
      "text/plain": [
       "<Figure size 432x288 with 1 Axes>"
      ]
     },
     "metadata": {
      "needs_background": "light"
     },
     "output_type": "display_data"
    }
   ],
   "source": [
    "plt.scatter(relative_humidity,content_of_moisture)\n",
    "plt.plot(relative_humidity,reg_Y,color='red',linewidth=1.3)\n",
    "plt.show()"
   ]
  },
  {
   "cell_type": "markdown",
   "metadata": {
    "pycharm": {
     "name": "#%% md\n"
    }
   },
   "source": [
    "<b>Sum of Squares for Residuals"
   ]
  },
  {
   "cell_type": "markdown",
   "metadata": {
    "pycharm": {
     "name": "#%% md\n"
    }
   },
   "source": [
    "<b>Example\n",
    "\n",
    "<b> There are data on x and Y. x is the humidity of the wet mix of a particular product. Y is dense of a finished product.\n",
    "\n",
    "- x = [5, 6, 7, 10, 12, 15, 18, 20]\n",
    "- Y = [7.4, 9.3, 10.6, 15.4, 18.1, 22.2, 24.1, 24.8]"
   ]
  },
  {
   "cell_type": "code",
   "execution_count": 25,
   "metadata": {
    "pycharm": {
     "name": "#%%\n"
    }
   },
   "outputs": [
    {
     "data": {
      "image/png": "[encoded data removed]",
      "text/plain": [
       "<Figure size 432x288 with 1 Axes>"
      ]
     },
     "metadata": {
      "needs_background": "light"
     },
     "output_type": "display_data"
    }
   ],
   "source": [
    "x = [5, 6, 7, 10, 12, 15, 18, 20]\n",
    "Y = [7.4, 9.3, 10.6, 15.4, 18.1, 22.2, 24.1, 24.8]\n",
    "\n",
    "plt.scatter(x,Y)\n",
    "plt.show()"
   ]
  },
  {
   "cell_type": "code",
   "execution_count": 26,
   "metadata": {
    "pycharm": {
     "name": "#%%\n"
    }
   },
   "outputs": [
    {
     "data": {
      "text/plain": [
       "[8.495323943661976,\n",
       " 9.701690140845074,\n",
       " 10.908056338028173,\n",
       " 14.527154929577467,\n",
       " 16.939887323943662,\n",
       " 20.558985915492958,\n",
       " 24.17808450704225,\n",
       " 26.59081690140845]"
      ]
     },
     "execution_count": 26,
     "metadata": {},
     "output_type": "execute_result"
    }
   ],
   "source": [
    "alpha = RegressionParameters.A(x,Y)\n",
    "beta = RegressionParameters.B(x,Y)\n",
    "\n",
    "# They are output according to the regression equation.\n",
    "reg_Y =[(alpha +beta * i)for i in x]\n",
    "reg_Y"
   ]
  },
  {
   "cell_type": "code",
   "execution_count": 28,
   "metadata": {
    "pycharm": {
     "name": "#%%\n"
    }
   },
   "outputs": [
    {
     "data": {
      "image/png": "[encoded data removed]",
      "text/plain": [
       "<Figure size 432x288 with 1 Axes>"
      ]
     },
     "metadata": {
      "needs_background": "light"
     },
     "output_type": "display_data"
    }
   ],
   "source": [
    "plt.scatter(x,Y)\n",
    "plt.plot(x,reg_Y,color='red',linewidth=1.3)\n",
    "plt.show()"
   ]
  },
  {
   "cell_type": "code",
   "execution_count": 29,
   "metadata": {
    "pycharm": {
     "name": "#%%\n"
    }
   },
   "outputs": [
    {
     "data": {
      "text/plain": [
       "9.469757746479173"
      ]
     },
     "execution_count": 29,
     "metadata": {},
     "output_type": "execute_result"
    }
   ],
   "source": [
    "# Sum of Squares for Residuals(SSR)\n",
    "\n",
    "ssr = RegressionParameters.Ssr(x,Y)\n",
    "\n",
    "ssr"
   ]
  },
  {
   "cell_type": "markdown",
   "source": [
    "# Hypothesis Testing for $H_{0}: \\beta = 0 $"
   ],
   "metadata": {
    "collapsed": false,
    "pycharm": {
     "name": "#%% md\n"
    }
   }
  },
  {
   "cell_type": "markdown",
   "source": [
    "<b>Example\n",
    "<b>One person claims that the fuel consumption of his car is not dependent on the car's speeding. To test the plausibility of this hypothesis, the car was tested at various speeds between 45 and 75 miles per hour. The miles per gallon achieved at each of these speeds were determined.\n",
    "\n",
    "- speed = [45, 50, 55, 60, 65, 70, 75]\n",
    "- miles = [24.2, 25, 23.3, 22, 21.5, 20.6, 19.8]"
   ],
   "metadata": {
    "collapsed": false,
    "pycharm": {
     "name": "#%% md\n"
    }
   }
  },
  {
   "cell_type": "code",
   "execution_count": 31,
   "outputs": [
    {
     "data": {
      "text/plain": "1.5271428571412253"
     },
     "execution_count": 31,
     "metadata": {},
     "output_type": "execute_result"
    }
   ],
   "source": [
    "speed = [45, 50, 55, 60, 65, 70, 75]\n",
    "miles = [24.2, 25, 23.3, 22, 21.5, 20.6, 19.8]\n",
    "\n",
    "ssr =RegressionParameters.Ssr(speed,miles)\n",
    "ssr"
   ],
   "metadata": {
    "collapsed": false,
    "pycharm": {
     "name": "#%%\n"
    }
   }
  },
  {
   "cell_type": "markdown",
   "source": [
    "- Test Statistics for Beta=0"
   ],
   "metadata": {
    "collapsed": false,
    "pycharm": {
     "name": "#%% md\n"
    }
   }
  },
  {
   "cell_type": "code",
   "execution_count": 34,
   "outputs": [
    {
     "data": {
      "text/plain": "8.138476446948063"
     },
     "execution_count": 34,
     "metadata": {},
     "output_type": "execute_result"
    }
   ],
   "source": [
    "from LinearRegression import CoefHypoTest\n",
    "\n",
    "test_stat = CoefHypoTest.B_hypot(speed,miles,0)\n",
    "test_stat"
   ],
   "metadata": {
    "collapsed": false,
    "pycharm": {
     "name": "#%%\n"
    }
   }
  },
  {
   "cell_type": "markdown",
   "source": [
    "<b>After the result is compared with the t-table value, a conclusion can be obtained about the validity of the hypothesis."
   ],
   "metadata": {
    "collapsed": false,
    "pycharm": {
     "name": "#%% md\n"
    }
   }
  },
  {
   "cell_type": "markdown",
   "source": [
    "# Confidence Interval for $\\beta$"
   ],
   "metadata": {
    "collapsed": false,
    "pycharm": {
     "name": "#%% md\n"
    }
   }
  },
  {
   "cell_type": "markdown",
   "source": [
    "# $\\left (  B - \\sqrt{\\frac{SS_{R}}{(n-2)S_{xx}}}t_{\\alpha /2 ,n-2} , B + \\sqrt{\\frac{SS_{R}}{(n-2)S_{xx}}}t_{\\alpha /2 ,n-2}\\right )$"
   ],
   "metadata": {
    "collapsed": false,
    "pycharm": {
     "name": "#%% md\n"
    }
   }
  },
  {
   "cell_type": "markdown",
   "source": [
    "<b>Derive the 95% confidence interval estimate of beta for the above example."
   ],
   "metadata": {
    "collapsed": false,
    "pycharm": {
     "name": "#%% md\n"
    }
   }
  },
  {
   "cell_type": "code",
   "execution_count": null,
   "outputs": [],
   "source": [],
   "metadata": {
    "collapsed": false,
    "pycharm": {
     "name": "#%%\n"
    }
   }
  }
 ],
 "metadata": {
  "kernelspec": {
   "display_name": "Python 3 (ipykernel)",
   "language": "python",
   "name": "python3"
  },
  "language_info": {
   "codemirror_mode": {
    "name": "ipython",
    "version": 3
   },
   "file_extension": ".py",
   "mimetype": "text/x-python",
   "name": "python",
   "nbconvert_exporter": "python",
   "pygments_lexer": "ipython3",
   "version": "3.10.4"
  }
 },
 "nbformat": 4,
 "nbformat_minor": 1
}