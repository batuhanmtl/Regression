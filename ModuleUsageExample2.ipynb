{
 "cells": [
  {
   "cell_type": "markdown",
   "source": [
    "# MULTIPLE LINEAR REGRESSION"
   ],
   "metadata": {
    "collapsed": false,
    "pycharm": {
     "name": "#%% md\n"
    }
   }
  },
  {
   "cell_type": "markdown",
   "source": [
    "# 1) Regression Coefficients : $\\beta$\n"
   ],
   "metadata": {
    "collapsed": false,
    "pycharm": {
     "name": "#%% md\n"
    }
   }
  },
  {
   "cell_type": "markdown",
   "source": [
    "<b>Example\n",
    "<b>Suicide rate is associated with divorce rate and population size.\n",
    "<b> Find a multiple linear regression model on the following data."
   ],
   "metadata": {
    "collapsed": false,
    "pycharm": {
     "name": "#%% md\n"
    }
   }
  },
  {
   "cell_type": "code",
   "execution_count": 19,
   "outputs": [
    {
     "data": {
      "text/plain": "          State  Population(1.000)  Divorce Rate  Suicide Rate\n0     Akron, OH                679          30.4          11.6\n1   Anaheim, CA               1420          34.1          16.1\n2   Buffalo, NY               1349          17.2           9.3\n3    Austin, TX                296          26.8           9.1\n4   Chicago, IL               6975          29.1           8.4\n5  Columbia, SC                323          18.7           7.7\n6   Detroit, MI               4200          32.6          11.3\n7      Gary, IN                633          32.5           8.4",
      "text/html": "<div>\n<style scoped>\n    .dataframe tbody tr th:only-of-type {\n        vertical-align: middle;\n    }\n\n    .dataframe tbody tr th {\n        vertical-align: top;\n    }\n\n    .dataframe thead th {\n        text-align: right;\n    }\n</style>\n<table border=\"1\" class=\"dataframe\">\n  <thead>\n    <tr style=\"text-align: right;\">\n      <th></th>\n      <th>State</th>\n      <th>Population(1.000)</th>\n      <th>Divorce Rate</th>\n      <th>Suicide Rate</th>\n    </tr>\n  </thead>\n  <tbody>\n    <tr>\n      <th>0</th>\n      <td>Akron, OH</td>\n      <td>679</td>\n      <td>30.4</td>\n      <td>11.6</td>\n    </tr>\n    <tr>\n      <th>1</th>\n      <td>Anaheim, CA</td>\n      <td>1420</td>\n      <td>34.1</td>\n      <td>16.1</td>\n    </tr>\n    <tr>\n      <th>2</th>\n      <td>Buffalo, NY</td>\n      <td>1349</td>\n      <td>17.2</td>\n      <td>9.3</td>\n    </tr>\n    <tr>\n      <th>3</th>\n      <td>Austin, TX</td>\n      <td>296</td>\n      <td>26.8</td>\n      <td>9.1</td>\n    </tr>\n    <tr>\n      <th>4</th>\n      <td>Chicago, IL</td>\n      <td>6975</td>\n      <td>29.1</td>\n      <td>8.4</td>\n    </tr>\n    <tr>\n      <th>5</th>\n      <td>Columbia, SC</td>\n      <td>323</td>\n      <td>18.7</td>\n      <td>7.7</td>\n    </tr>\n    <tr>\n      <th>6</th>\n      <td>Detroit, MI</td>\n      <td>4200</td>\n      <td>32.6</td>\n      <td>11.3</td>\n    </tr>\n    <tr>\n      <th>7</th>\n      <td>Gary, IN</td>\n      <td>633</td>\n      <td>32.5</td>\n      <td>8.4</td>\n    </tr>\n  </tbody>\n</table>\n</div>"
     },
     "execution_count": 19,
     "metadata": {},
     "output_type": "execute_result"
    }
   ],
   "source": [
    "import pandas as pd\n",
    "\n",
    "dict1 = {'State' : ['Akron, OH', 'Anaheim, CA', 'Buffalo, NY', 'Austin, TX', 'Chicago, IL', 'Columbia, SC', 'Detroit, MI', 'Gary, IN'],\n",
    "        'Population(1.000)' : [679,1420,1349,296,6975,323,4200,633],\n",
    "         'Divorce Rate' : [30.4,34.1,17.2,26.8,29.1,18.7,32.6,32.5],\n",
    "         'Suicide Rate' : [11.6,16.1,9.3,9.1,8.4,7.7,11.3,8.4]}\n",
    "\n",
    "df1 = pd.DataFrame(dict1)\n",
    "df1"
   ],
   "metadata": {
    "collapsed": false,
    "pycharm": {
     "name": "#%%\n"
    }
   }
  },
  {
   "cell_type": "markdown",
   "source": [
    "# Model : $Y = \\beta_{0} + \\beta_{1}x_{1} + \\beta_{2}x_{2} $"
   ],
   "metadata": {
    "collapsed": false,
    "pycharm": {
     "name": "#%% md\n"
    }
   }
  },
  {
   "cell_type": "code",
   "execution_count": 20,
   "outputs": [
    {
     "data": {
      "text/plain": "array([[ 3.50735336e+00, -2.47709904e-04,  2.60946558e-01]])"
     },
     "execution_count": 20,
     "metadata": {},
     "output_type": "execute_result"
    }
   ],
   "source": [
    "from MultipleLinearRegression.MultipleLinReg import Multiple_Regression\n",
    "\n",
    "coef_beta = Multiple_Regression(data=df1, x_cols_name=['Population(1.000)', 'Divorce Rate'],y_col='Suicide Rate')\n",
    "coef_beta.transpose() # beta_0  beta_1 beta_2"
   ],
   "metadata": {
    "collapsed": false,
    "pycharm": {
     "name": "#%%\n"
    }
   }
  },
  {
   "cell_type": "markdown",
   "source": [
    "# Y = 3.5073 - 0.0002$x_{1}$ + 0.2609$x_{2}$"
   ],
   "metadata": {
    "collapsed": false,
    "pycharm": {
     "name": "#%% md\n"
    }
   }
  },
  {
   "cell_type": "markdown",
   "source": [
    "# 2) Sum of Squares of Residuals : $SS_{R}$"
   ],
   "metadata": {
    "collapsed": false,
    "pycharm": {
     "name": "#%% md\n"
    }
   }
  },
  {
   "cell_type": "code",
   "execution_count": 21,
   "outputs": [
    {
     "data": {
      "text/plain": "34.12123329568158"
     },
     "execution_count": 21,
     "metadata": {},
     "output_type": "execute_result"
    }
   ],
   "source": [
    "from MultipleLinearRegression.MultipleLinReg import Multiple_SSr\n",
    "\n",
    "ssr = Multiple_SSr(data=df1, x_cols_name=['Population(1.000)', 'Divorce Rate'],y_col='Suicide Rate')\n",
    "ssr"
   ],
   "metadata": {
    "collapsed": false,
    "pycharm": {
     "name": "#%%\n"
    }
   }
  },
  {
   "cell_type": "markdown",
   "source": [
    "# 3) Prediction of $\\sigma ^{2}$"
   ],
   "metadata": {
    "collapsed": false,
    "pycharm": {
     "name": "#%% md\n"
    }
   }
  },
  {
   "cell_type": "code",
   "execution_count": 22,
   "outputs": [
    {
     "data": {
      "text/plain": "6.824246659136316"
     },
     "execution_count": 22,
     "metadata": {},
     "output_type": "execute_result"
    }
   ],
   "source": [
    "from MultipleLinearRegression.MultipleLinReg import Variance_Estimator\n",
    "\n",
    "variance = Variance_Estimator(data=df1, x_cols_name=['Population(1.000)', 'Divorce Rate'],y_col='Suicide Rate')\n",
    "variance"
   ],
   "metadata": {
    "collapsed": false,
    "pycharm": {
     "name": "#%%\n"
    }
   }
  },
  {
   "cell_type": "markdown",
   "source": [
    "# 4) Hypothesis testing for $\\beta_{i} = k$"
   ],
   "metadata": {
    "collapsed": false,
    "pycharm": {
     "name": "#%% md\n"
    }
   }
  },
  {
   "cell_type": "markdown",
   "source": [
    "<b>Example\n",
    "<b>Depending on the age of a tree, the diameter of the tree depends on the amount of precipitation where it is located, the height of the place where it is located and its specific weight.\n",
    "<b>Accordingly, test the $\\beta_{2}=0$ hypothesis that the height does not affect the diameter of the tree."
   ],
   "metadata": {
    "collapsed": false,
    "pycharm": {
     "name": "#%% md\n"
    }
   }
  },
  {
   "cell_type": "code",
   "execution_count": 23,
   "outputs": [
    {
     "data": {
      "text/plain": "    Age  Height(1.000 ft)  Rainfall(inch)  Weight  Diameter(inch)\n0    44               1.3             250    0.63            18.1\n1    33               2.2             115    0.59            19.6\n2    33               2.2              75    0.56            16.6\n3    32               2.6              85    0.55            16.4\n4    34               2.0             100    0.54            16.9\n5    31               1.8              75    0.59            17.0\n6    33               2.2              85    0.56            20.0\n7    30               3.6              75    0.46            16.6\n8    34               1.6             225    0.63            16.2\n9    34               1.5             250    0.60            18.5\n10   33               2.2             255    0.63            18.7\n11   36               1.7             175    0.58            19.4\n12   33               2.2              75    0.55            17.6\n13   34               1.3              85    0.57            18.3\n14   37               2.6              90    0.62            18.8",
      "text/html": "<div>\n<style scoped>\n    .dataframe tbody tr th:only-of-type {\n        vertical-align: middle;\n    }\n\n    .dataframe tbody tr th {\n        vertical-align: top;\n    }\n\n    .dataframe thead th {\n        text-align: right;\n    }\n</style>\n<table border=\"1\" class=\"dataframe\">\n  <thead>\n    <tr style=\"text-align: right;\">\n      <th></th>\n      <th>Age</th>\n      <th>Height(1.000 ft)</th>\n      <th>Rainfall(inch)</th>\n      <th>Weight</th>\n      <th>Diameter(inch)</th>\n    </tr>\n  </thead>\n  <tbody>\n    <tr>\n      <th>0</th>\n      <td>44</td>\n      <td>1.3</td>\n      <td>250</td>\n      <td>0.63</td>\n      <td>18.1</td>\n    </tr>\n    <tr>\n      <th>1</th>\n      <td>33</td>\n      <td>2.2</td>\n      <td>115</td>\n      <td>0.59</td>\n      <td>19.6</td>\n    </tr>\n    <tr>\n      <th>2</th>\n      <td>33</td>\n      <td>2.2</td>\n      <td>75</td>\n      <td>0.56</td>\n      <td>16.6</td>\n    </tr>\n    <tr>\n      <th>3</th>\n      <td>32</td>\n      <td>2.6</td>\n      <td>85</td>\n      <td>0.55</td>\n      <td>16.4</td>\n    </tr>\n    <tr>\n      <th>4</th>\n      <td>34</td>\n      <td>2.0</td>\n      <td>100</td>\n      <td>0.54</td>\n      <td>16.9</td>\n    </tr>\n    <tr>\n      <th>5</th>\n      <td>31</td>\n      <td>1.8</td>\n      <td>75</td>\n      <td>0.59</td>\n      <td>17.0</td>\n    </tr>\n    <tr>\n      <th>6</th>\n      <td>33</td>\n      <td>2.2</td>\n      <td>85</td>\n      <td>0.56</td>\n      <td>20.0</td>\n    </tr>\n    <tr>\n      <th>7</th>\n      <td>30</td>\n      <td>3.6</td>\n      <td>75</td>\n      <td>0.46</td>\n      <td>16.6</td>\n    </tr>\n    <tr>\n      <th>8</th>\n      <td>34</td>\n      <td>1.6</td>\n      <td>225</td>\n      <td>0.63</td>\n      <td>16.2</td>\n    </tr>\n    <tr>\n      <th>9</th>\n      <td>34</td>\n      <td>1.5</td>\n      <td>250</td>\n      <td>0.60</td>\n      <td>18.5</td>\n    </tr>\n    <tr>\n      <th>10</th>\n      <td>33</td>\n      <td>2.2</td>\n      <td>255</td>\n      <td>0.63</td>\n      <td>18.7</td>\n    </tr>\n    <tr>\n      <th>11</th>\n      <td>36</td>\n      <td>1.7</td>\n      <td>175</td>\n      <td>0.58</td>\n      <td>19.4</td>\n    </tr>\n    <tr>\n      <th>12</th>\n      <td>33</td>\n      <td>2.2</td>\n      <td>75</td>\n      <td>0.55</td>\n      <td>17.6</td>\n    </tr>\n    <tr>\n      <th>13</th>\n      <td>34</td>\n      <td>1.3</td>\n      <td>85</td>\n      <td>0.57</td>\n      <td>18.3</td>\n    </tr>\n    <tr>\n      <th>14</th>\n      <td>37</td>\n      <td>2.6</td>\n      <td>90</td>\n      <td>0.62</td>\n      <td>18.8</td>\n    </tr>\n  </tbody>\n</table>\n</div>"
     },
     "execution_count": 23,
     "metadata": {},
     "output_type": "execute_result"
    }
   ],
   "source": [
    "dict2 = {'Age' : [44,33,33,32,34,31,33,30,34,34,33,36,33,34,37],\n",
    "         'Height(1.000 ft)' : [1.3,2.2,2.2,2.6,2,1.8,2.2,3.6,1.6,1.5,2.2,1.7,2.2,1.3,2.6],\n",
    "         'Rainfall(inch)' : [250,115,75,85,100,75,85,75,225,250,255,175,75,85,90],\n",
    "         'Weight' : [0.63,0.59,0.56,0.55,0.54,0.59,0.56,0.46,0.63,0.6,0.63,0.58,0.55,0.57,0.62],\n",
    "         'Diameter(inch)' : [18.1,19.6,16.6,16.4,16.9,17,20,16.6,16.2,18.5,18.7,19.4,17.6,18.3,18.8]}\n",
    "\n",
    "df2 = pd.DataFrame(dict2)\n",
    "df2"
   ],
   "metadata": {
    "collapsed": false,
    "pycharm": {
     "name": "#%%\n"
    }
   }
  },
  {
   "cell_type": "code",
   "execution_count": 24,
   "outputs": [
    {
     "name": "stdout",
     "output_type": "stream",
     "text": [
      "test-stat=0.08694500407991285 t-table=-2.2281388519649385\n",
      "## H_0 hypothesis can be accepted ##\n"
     ]
    },
    {
     "data": {
      "text/plain": "(0.08694500407991285, -2.2281388519649385)"
     },
     "execution_count": 24,
     "metadata": {},
     "output_type": "execute_result"
    }
   ],
   "source": [
    "from MultipleLinearRegression.MultipleLinReg import Coef_Hypot\n",
    "\n",
    "coef_hypot = Coef_Hypot(data=df2,alpha=0.05,beta=0,variable_name='Height(1.000 ft)',x_cols_name=['Age','Height(1.000 ft)','Rainfall(inch)','Weight'],y_col='Diameter(inch)')\n",
    "\n",
    "coef_hypot"
   ],
   "metadata": {
    "collapsed": false,
    "pycharm": {
     "name": "#%%\n"
    }
   }
  },
  {
   "cell_type": "markdown",
   "source": [
    "# 5) Multiple Determination Coefficient $R^{2}$"
   ],
   "metadata": {
    "collapsed": false,
    "pycharm": {
     "name": "#%% md\n"
    }
   }
  },
  {
   "cell_type": "code",
   "execution_count": 27,
   "outputs": [
    {
     "data": {
      "text/plain": "0.11998618786964044"
     },
     "execution_count": 27,
     "metadata": {},
     "output_type": "execute_result"
    }
   ],
   "source": [
    "from MultipleLinearRegression.MultipleLinReg import Multiple_R2\n",
    "\n",
    "R2 = Multiple_R2(data=df2,x_cols_name=['Age','Height(1.000 ft)','Rainfall(inch)','Weight'],y_col='Diameter(inch)')\n",
    "R2"
   ],
   "metadata": {
    "collapsed": false,
    "pycharm": {
     "name": "#%%\n"
    }
   }
  },
  {
   "cell_type": "markdown",
   "source": [
    "# 6) Predicting Future Responses"
   ],
   "metadata": {
    "collapsed": false,
    "pycharm": {
     "name": "#%% md\n"
    }
   }
  },
  {
   "cell_type": "markdown",
   "source": [
    "<b>Example\n",
    "<b>A steel company is planning to manufacture a reduced cold steel plate containing 15% copper at an annealing temperature of 1.15 degrees Fahrenheit and is interested in estimating the average strength of the plate. Below are data from 10 different steel plate samples with different copper content and different annealing temperatures.\n",
    "Estimate the mean stiffness and determine the confidence interval for the mean with 95% confidence."
   ],
   "metadata": {
    "collapsed": false,
    "pycharm": {
     "name": "#%% md\n"
    }
   }
  },
  {
   "cell_type": "code",
   "execution_count": 29,
   "outputs": [
    {
     "data": {
      "text/plain": "   Durability  Plate  Heat(1.000 Fah)\n0        79.2   0.02             1.05\n1        64.0   0.03             1.20\n2        55.7   0.03             1.25\n3        56.3   0.04             1.30\n4        58.6   0.10             1.30\n5        84.3   0.15             1.00\n6        70.4   0.15             1.10\n7        61.3   0.09             1.20\n8        51.3   0.13             1.40\n9        49.8   0.09             1.40",
      "text/html": "<div>\n<style scoped>\n    .dataframe tbody tr th:only-of-type {\n        vertical-align: middle;\n    }\n\n    .dataframe tbody tr th {\n        vertical-align: top;\n    }\n\n    .dataframe thead th {\n        text-align: right;\n    }\n</style>\n<table border=\"1\" class=\"dataframe\">\n  <thead>\n    <tr style=\"text-align: right;\">\n      <th></th>\n      <th>Durability</th>\n      <th>Plate</th>\n      <th>Heat(1.000 Fah)</th>\n    </tr>\n  </thead>\n  <tbody>\n    <tr>\n      <th>0</th>\n      <td>79.2</td>\n      <td>0.02</td>\n      <td>1.05</td>\n    </tr>\n    <tr>\n      <th>1</th>\n      <td>64.0</td>\n      <td>0.03</td>\n      <td>1.20</td>\n    </tr>\n    <tr>\n      <th>2</th>\n      <td>55.7</td>\n      <td>0.03</td>\n      <td>1.25</td>\n    </tr>\n    <tr>\n      <th>3</th>\n      <td>56.3</td>\n      <td>0.04</td>\n      <td>1.30</td>\n    </tr>\n    <tr>\n      <th>4</th>\n      <td>58.6</td>\n      <td>0.10</td>\n      <td>1.30</td>\n    </tr>\n    <tr>\n      <th>5</th>\n      <td>84.3</td>\n      <td>0.15</td>\n      <td>1.00</td>\n    </tr>\n    <tr>\n      <th>6</th>\n      <td>70.4</td>\n      <td>0.15</td>\n      <td>1.10</td>\n    </tr>\n    <tr>\n      <th>7</th>\n      <td>61.3</td>\n      <td>0.09</td>\n      <td>1.20</td>\n    </tr>\n    <tr>\n      <th>8</th>\n      <td>51.3</td>\n      <td>0.13</td>\n      <td>1.40</td>\n    </tr>\n    <tr>\n      <th>9</th>\n      <td>49.8</td>\n      <td>0.09</td>\n      <td>1.40</td>\n    </tr>\n  </tbody>\n</table>\n</div>"
     },
     "execution_count": 29,
     "metadata": {},
     "output_type": "execute_result"
    }
   ],
   "source": [
    "dict3 = {'Durability': [79.2, 64, 55.7, 56.3, 58.6, 84.3, 70.4, 61.3, 51.3, 49.8],\n",
    "         'Plate': [0.02, 0.03, 0.03, 0.04, 0.1, 0.15, 0.15, 0.09, 0.13, 0.09],\n",
    "         'Heat(1.000 Fah)': [1.05, 1.2, 1.25, 1.3, 1.3, 1, 1.1, 1.2, 1.4, 1.4]}\n",
    "df3 = pd.DataFrame(dict3)\n",
    "df3"
   ],
   "metadata": {
    "collapsed": false,
    "pycharm": {
     "name": "#%%\n"
    }
   }
  },
  {
   "cell_type": "code",
   "execution_count": 31,
   "outputs": [
    {
     "data": {
      "text/plain": "(63.28197113160484, 71.4466956885688)"
     },
     "execution_count": 31,
     "metadata": {},
     "output_type": "execute_result"
    }
   ],
   "source": [
    "from MultipleLinearRegression.IntervalPrediction import Interval\n",
    "\n",
    "interval = Interval(data=df3,alpha=0.05,x_cols_name=['Heat(1.000 Fah)','Plate'],y_col='Durability',x_value=[1.15,0.15])\n",
    "interval"
   ],
   "metadata": {
    "collapsed": false,
    "pycharm": {
     "name": "#%%\n"
    }
   }
  },
  {
   "cell_type": "markdown",
   "source": [
    "# $E[Y|x] = \\sum_{i=0}^{k}x_{i}\\beta _{i} \\in (63.282,71.447)$"
   ],
   "metadata": {
    "collapsed": false,
    "pycharm": {
     "name": "#%% md\n"
    }
   }
  },
  {
   "cell_type": "code",
   "execution_count": null,
   "outputs": [],
   "source": [],
   "metadata": {
    "collapsed": false,
    "pycharm": {
     "name": "#%%\n"
    }
   }
  }
 ],
 "metadata": {
  "kernelspec": {
   "display_name": "Python 3",
   "language": "python",
   "name": "python3"
  },
  "language_info": {
   "codemirror_mode": {
    "name": "ipython",
    "version": 2
   },
   "file_extension": ".py",
   "mimetype": "text/x-python",
   "name": "python",
   "nbconvert_exporter": "python",
   "pygments_lexer": "ipython2",
   "version": "2.7.6"
  }
 },
 "nbformat": 4,
 "nbformat_minor": 0
}