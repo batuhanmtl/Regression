{
 "cells": [
  {
   "cell_type": "markdown",
   "source": [
    "# MULTIPLE LINEAR REGRESSION"
   ],
   "metadata": {
    "collapsed": false,
    "pycharm": {
     "name": "#%% md\n"
    }
   }
  },
  {
   "cell_type": "markdown",
   "source": [
    "# 1) Regression Coefficients\n"
   ],
   "metadata": {
    "collapsed": false,
    "pycharm": {
     "name": "#%% md\n"
    }
   }
  },
  {
   "cell_type": "markdown",
   "source": [
    "<b>Example\n",
    "<b>Suicide rate is associated with divorce rate and population size.\n",
    "<b> Find a multiple linear regression model on the following data."
   ],
   "metadata": {
    "collapsed": false,
    "pycharm": {
     "name": "#%% md\n"
    }
   }
  },
  {
   "cell_type": "code",
   "execution_count": 3,
   "outputs": [
    {
     "data": {
      "text/plain": "          State  Population(1.000)  Divorce Rate  Suicide Rate\n0     Akron, OH                679          30.4          11.6\n1   Anaheim, CA               1420          34.1          16.1\n2   Buffalo, NY               1349          17.2           9.3\n3    Austin, TX                296          26.8           9.1\n4   Chicago, IL               6975          29.1           8.4\n5  Columbia, SC                323          18.7           7.7\n6   Detroit, MI               4200          32.6          11.3\n7      Gary, IN                633          32.5           8.4",
      "text/html": "<div>\n<style scoped>\n    .dataframe tbody tr th:only-of-type {\n        vertical-align: middle;\n    }\n\n    .dataframe tbody tr th {\n        vertical-align: top;\n    }\n\n    .dataframe thead th {\n        text-align: right;\n    }\n</style>\n<table border=\"1\" class=\"dataframe\">\n  <thead>\n    <tr style=\"text-align: right;\">\n      <th></th>\n      <th>State</th>\n      <th>Population(1.000)</th>\n      <th>Divorce Rate</th>\n      <th>Suicide Rate</th>\n    </tr>\n  </thead>\n  <tbody>\n    <tr>\n      <th>0</th>\n      <td>Akron, OH</td>\n      <td>679</td>\n      <td>30.4</td>\n      <td>11.6</td>\n    </tr>\n    <tr>\n      <th>1</th>\n      <td>Anaheim, CA</td>\n      <td>1420</td>\n      <td>34.1</td>\n      <td>16.1</td>\n    </tr>\n    <tr>\n      <th>2</th>\n      <td>Buffalo, NY</td>\n      <td>1349</td>\n      <td>17.2</td>\n      <td>9.3</td>\n    </tr>\n    <tr>\n      <th>3</th>\n      <td>Austin, TX</td>\n      <td>296</td>\n      <td>26.8</td>\n      <td>9.1</td>\n    </tr>\n    <tr>\n      <th>4</th>\n      <td>Chicago, IL</td>\n      <td>6975</td>\n      <td>29.1</td>\n      <td>8.4</td>\n    </tr>\n    <tr>\n      <th>5</th>\n      <td>Columbia, SC</td>\n      <td>323</td>\n      <td>18.7</td>\n      <td>7.7</td>\n    </tr>\n    <tr>\n      <th>6</th>\n      <td>Detroit, MI</td>\n      <td>4200</td>\n      <td>32.6</td>\n      <td>11.3</td>\n    </tr>\n    <tr>\n      <th>7</th>\n      <td>Gary, IN</td>\n      <td>633</td>\n      <td>32.5</td>\n      <td>8.4</td>\n    </tr>\n  </tbody>\n</table>\n</div>"
     },
     "execution_count": 3,
     "metadata": {},
     "output_type": "execute_result"
    }
   ],
   "source": [
    "import pandas as pd\n",
    "\n",
    "dict1 = {'State' : ['Akron, OH', 'Anaheim, CA', 'Buffalo, NY', 'Austin, TX', 'Chicago, IL', 'Columbia, SC', 'Detroit, MI', 'Gary, IN'],\n",
    "        'Population(1.000)' : [679,1420,1349,296,6975,323,4200,633],\n",
    "         'Divorce Rate' : [30.4,34.1,17.2,26.8,29.1,18.7,32.6,32.5],\n",
    "         'Suicide Rate' : [11.6,16.1,9.3,9.1,8.4,7.7,11.3,8.4]}\n",
    "\n",
    "df1 = pd.DataFrame(dict1)\n",
    "df1"
   ],
   "metadata": {
    "collapsed": false,
    "pycharm": {
     "name": "#%%\n"
    }
   }
  },
  {
   "cell_type": "markdown",
   "source": [
    "# Model : $Y = \\beta_{0} + \\beta_{1}x_{1} + \\beta_{2}x_{2} $"
   ],
   "metadata": {
    "collapsed": false,
    "pycharm": {
     "name": "#%% md\n"
    }
   }
  },
  {
   "cell_type": "code",
   "execution_count": 4,
   "outputs": [
    {
     "data": {
      "text/plain": "array([[ 3.50735336e+00, -2.47709904e-04,  2.60946558e-01]])"
     },
     "execution_count": 4,
     "metadata": {},
     "output_type": "execute_result"
    }
   ],
   "source": [
    "from MultipleLinearRegression.MultipleLinReg import Multiple_Regression\n",
    "\n",
    "coef_beta = Multiple_Regression(data=df1, x_cols_name=['Population(1.000)', 'Divorce Rate'],y_col='Suicide Rate')\n",
    "coef_beta.transpose() # beta_0  beta_1 beta_2"
   ],
   "metadata": {
    "collapsed": false,
    "pycharm": {
     "name": "#%%\n"
    }
   }
  },
  {
   "cell_type": "markdown",
   "source": [
    "# Y = 3.5073 - 0.0002$x_{1}$ + 0.2609$x_{2}$"
   ],
   "metadata": {
    "collapsed": false,
    "pycharm": {
     "name": "#%% md\n"
    }
   }
  },
  {
   "cell_type": "code",
   "execution_count": 4,
   "outputs": [],
   "source": [],
   "metadata": {
    "collapsed": false,
    "pycharm": {
     "name": "#%%\n"
    }
   }
  }
 ],
 "metadata": {
  "kernelspec": {
   "display_name": "Python 3",
   "language": "python",
   "name": "python3"
  },
  "language_info": {
   "codemirror_mode": {
    "name": "ipython",
    "version": 2
   },
   "file_extension": ".py",
   "mimetype": "text/x-python",
   "name": "python",
   "nbconvert_exporter": "python",
   "pygments_lexer": "ipython2",
   "version": "2.7.6"
  }
 },
 "nbformat": 4,
 "nbformat_minor": 0
}